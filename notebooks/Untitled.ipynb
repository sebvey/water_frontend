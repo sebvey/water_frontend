{
 "cells": [
  {
   "cell_type": "code",
   "execution_count": 4,
   "id": "8685f828",
   "metadata": {},
   "outputs": [],
   "source": [
    "import requests\n",
    "from dotenv import dotenv_values\n",
    "import pandas as pd\n",
    "\n",
    "settings = dotenv_values()"
   ]
  },
  {
   "cell_type": "code",
   "execution_count": 5,
   "id": "3d9fdf3e",
   "metadata": {},
   "outputs": [
    {
     "data": {
      "text/plain": [
       "OrderedDict([('API_STATIONS_ENDPOINT',\n",
       "              'https://api-yufzv3bpca-ew.a.run.app/stations'),\n",
       "             ('API_PREDICTIONS_ENDPOINT',\n",
       "              'https://api-yufzv3bpca-ew.a.run.app/predictions')])"
      ]
     },
     "execution_count": 5,
     "metadata": {},
     "output_type": "execute_result"
    }
   ],
   "source": [
    "settings"
   ]
  },
  {
   "cell_type": "code",
   "execution_count": 9,
   "id": "d72b7dd3",
   "metadata": {},
   "outputs": [
    {
     "data": {
      "text/plain": [
       "{'weather': {'2021-12-19': {'temperature': 3.6,\n",
       "   'precipitation': 0.0,\n",
       "   'maxwind': 9.0},\n",
       "  '2021-12-20': {'temperature': 3.2, 'precipitation': 0.0, 'maxwind': 14.8},\n",
       "  '2021-12-21': {'temperature': 0.4, 'precipitation': 0.0, 'maxwind': 7.2},\n",
       "  '2021-12-22': {'temperature': -0.6, 'precipitation': 0.0, 'maxwind': 6.1},\n",
       "  '2021-12-23': {'temperature': 2.6, 'precipitation': 0.0, 'maxwind': 15.5},\n",
       "  '2021-12-24': {'temperature': 4.0, 'precipitation': 0.4, 'maxwind': 14.4},\n",
       "  '2021-12-25': {'temperature': 6.5, 'precipitation': 0.3, 'maxwind': 14.8},\n",
       "  '2021-12-26': {'temperature': 6.8, 'precipitation': 3.5, 'maxwind': 14.8},\n",
       "  '2021-12-27': {'temperature': 6.5, 'precipitation': 2.5, 'maxwind': 25.9},\n",
       "  '2021-12-28': {'temperature': 8.8, 'precipitation': 4.4, 'maxwind': 28.1},\n",
       "  '2021-12-29': {'temperature': 10.1, 'precipitation': 5.4, 'maxwind': 22.3},\n",
       "  '2021-12-30': {'temperature': 11.2, 'precipitation': 1.0, 'maxwind': 20.5},\n",
       "  '2021-12-31': {'temperature': 9.6, 'precipitation': 0.0, 'maxwind': 10.1},\n",
       "  '2022-01-01': {'temperature': 9.6, 'precipitation': 0.0, 'maxwind': 7.9},\n",
       "  '2022-01-02': {'temperature': 7.8, 'precipitation': 0.1, 'maxwind': 18.4},\n",
       "  '2022-01-03': {'temperature': 9.0, 'precipitation': 1.4, 'maxwind': 25.2},\n",
       "  '2022-01-04': {'temperature': 10.4, 'precipitation': 3.6, 'maxwind': 33.5},\n",
       "  '2022-01-05': {'temperature': 1.4, 'precipitation': 4.0, 'maxwind': 16.2},\n",
       "  '2022-01-06': {'temperature': 1.2, 'precipitation': 0.3, 'maxwind': 6.8},\n",
       "  '2022-01-07': {'temperature': 0.0, 'precipitation': 1.4, 'maxwind': 16.6},\n",
       "  '2022-01-08': {'temperature': 0.8, 'precipitation': 3.9, 'maxwind': 35.6},\n",
       "  '2022-01-09': {'temperature': 1.3, 'precipitation': 3.4, 'maxwind': 27.7},\n",
       "  '2022-01-10': {'temperature': 0.5, 'precipitation': 1.1, 'maxwind': 8.6},\n",
       "  '2022-01-11': {'temperature': 0.2, 'precipitation': 0.0, 'maxwind': 12.2},\n",
       "  '2022-01-12': {'temperature': -0.8, 'precipitation': 0.0, 'maxwind': 10.8},\n",
       "  '2022-01-13': {'temperature': 1.6, 'precipitation': 0.0, 'maxwind': 9.0},\n",
       "  '2022-01-14': {'temperature': 3.4, 'precipitation': 0.0, 'maxwind': 4.0},\n",
       "  '2022-01-15': {'temperature': 2.8, 'precipitation': 0.0, 'maxwind': 5.0},\n",
       "  '2022-01-16': {'temperature': 0.8, 'precipitation': 0.0, 'maxwind': 10.8},\n",
       "  '2022-01-17': {'temperature': 2.5, 'precipitation': 0.0, 'maxwind': 7.6},\n",
       "  '2022-01-18': {'temperature': 4.4, 'precipitation': 0.0, 'maxwind': 15.8},\n",
       "  '2022-01-19': {'temperature': 2.0, 'precipitation': 0.0, 'maxwind': 15.8},\n",
       "  '2022-01-20': {'temperature': 0.8, 'precipitation': 2.2, 'maxwind': 16.2},\n",
       "  '2022-01-21': {'temperature': -1.1, 'precipitation': 0.0, 'maxwind': 8.6},\n",
       "  '2022-01-22': {'temperature': 1.8, 'precipitation': 0.4, 'maxwind': 4.3},\n",
       "  '2022-01-23': {'temperature': 3.2, 'precipitation': 0.0, 'maxwind': 11.9},\n",
       "  '2022-01-24': {'temperature': 2.6, 'precipitation': 0.0, 'maxwind': 4.7},\n",
       "  '2022-01-25': {'temperature': 2.7, 'precipitation': 0.0, 'maxwind': 6.1},\n",
       "  '2022-01-26': {'temperature': 2.6, 'precipitation': 0.0, 'maxwind': 6.1},\n",
       "  '2022-01-27': {'temperature': 3.1, 'precipitation': 0.5, 'maxwind': 12.2},\n",
       "  '2022-01-28': {'temperature': 3.0, 'precipitation': 0.1, 'maxwind': 8.3},\n",
       "  '2022-01-29': {'temperature': 1.7, 'precipitation': 0.0, 'maxwind': 15.8},\n",
       "  '2022-01-30': {'temperature': 4.2, 'precipitation': 0.3, 'maxwind': 12.2},\n",
       "  '2022-01-31': {'temperature': 1.8, 'precipitation': 1.9, 'maxwind': 23.0},\n",
       "  '2022-02-01': {'temperature': 0.4, 'precipitation': 2.2, 'maxwind': 23.0},\n",
       "  '2022-02-02': {'temperature': 6.4, 'precipitation': 1.5, 'maxwind': 16.6},\n",
       "  '2022-02-03': {'temperature': 5.5, 'precipitation': 0.0, 'maxwind': 9.0},\n",
       "  '2022-02-04': {'temperature': 4.6, 'precipitation': 0.3, 'maxwind': 18.0},\n",
       "  '2022-02-05': {'temperature': 1.8, 'precipitation': 0.6, 'maxwind': 13.3},\n",
       "  '2022-02-06': {'temperature': 3.6, 'precipitation': 2.2, 'maxwind': 34.6},\n",
       "  '2022-02-07': {'temperature': 2.6, 'precipitation': 2.0, 'maxwind': 31.3},\n",
       "  '2022-02-08': {'temperature': 4.1, 'precipitation': 0.0, 'maxwind': 5.8},\n",
       "  '2022-02-09': {'temperature': 5.2, 'precipitation': 0.0, 'maxwind': 9.4},\n",
       "  '2022-02-10': {'temperature': 6.0, 'precipitation': 0.0, 'maxwind': 20.2},\n",
       "  '2022-02-11': {'temperature': 1.6, 'precipitation': 4.5, 'maxwind': 15.5},\n",
       "  '2022-02-12': {'temperature': 1.0, 'precipitation': 0.0, 'maxwind': 7.2},\n",
       "  '2022-02-13': {'temperature': 5.6, 'precipitation': 0.0, 'maxwind': 28.4},\n",
       "  '2022-02-14': {'temperature': 7.2, 'precipitation': 1.4, 'maxwind': 29.2},\n",
       "  '2022-02-15': {'temperature': 4.4, 'precipitation': 0.0, 'maxwind': 17.3},\n",
       "  '2022-02-16': {'temperature': 5.6, 'precipitation': 2.1, 'maxwind': 28.1},\n",
       "  '2022-02-17': {'temperature': 9.3, 'precipitation': 23.5, 'maxwind': 30.6},\n",
       "  '2022-02-18': {'temperature': 7.4, 'precipitation': 3.8, 'maxwind': 28.8},\n",
       "  '2022-02-19': {'temperature': 3.4, 'precipitation': 1.3, 'maxwind': 21.2},\n",
       "  '2022-02-20': {'temperature': 3.6, 'precipitation': 8.5, 'maxwind': 31.3},\n",
       "  '2022-02-21': {'temperature': 4.6, 'precipitation': 17.3, 'maxwind': 32.0},\n",
       "  '2022-02-22': {'temperature': 4.2, 'precipitation': 1.1, 'maxwind': 17.6},\n",
       "  '2022-02-23': {'temperature': 5.6, 'precipitation': 0.9, 'maxwind': 16.6},\n",
       "  '2022-02-24': {'temperature': 4.1, 'precipitation': 1.7, 'maxwind': 19.8},\n",
       "  '2022-02-25': {'temperature': 1.9, 'precipitation': 0.4, 'maxwind': 11.2},\n",
       "  '2022-02-26': {'temperature': 3.9, 'precipitation': 0.0, 'maxwind': 10.4}},\n",
       " 'prediction': {'2022-02-17': {'prediction': 21.02937889099121},\n",
       "  '2022-02-18': {'prediction': 21.144330978393555},\n",
       "  '2022-02-19': {'prediction': 15.681367874145508},\n",
       "  '2022-02-20': {'prediction': 18.79123878479004},\n",
       "  '2022-02-21': {'prediction': 20.616832733154297},\n",
       "  '2022-02-22': {'prediction': 12.789320945739746},\n",
       "  '2022-02-23': {'prediction': 12.416881561279297},\n",
       "  '2022-02-24': {'prediction': 16.412086486816406},\n",
       "  '2022-02-25': {'prediction': 11.39146614074707},\n",
       "  '2022-02-26': {'prediction': 7.417349815368652}}}"
      ]
     },
     "execution_count": 9,
     "metadata": {},
     "output_type": "execute_result"
    }
   ],
   "source": [
    "url = settings['API_PREDICTIONS_ENDPOINT']\n",
    "station_id = 6000990\n",
    "\n",
    "try:\n",
    "    response = requests.get(url,params={'station_id':station_id})\n",
    "\n",
    "except ConnectionError:\n",
    "    print('None')\n",
    "\n",
    "if not response: # response not in 2XX\n",
    "    print('None')\n",
    "    \n",
    "# pd.DataFrame.from_dict(response.json(), orient='index')\n",
    "response.json()"
   ]
  },
  {
   "cell_type": "code",
   "execution_count": null,
   "id": "5657c4ae",
   "metadata": {},
   "outputs": [],
   "source": [
    "pd.DataFrame.from_dict(response.json(),orient='index')"
   ]
  },
  {
   "cell_type": "code",
   "execution_count": null,
   "id": "2d042fbe",
   "metadata": {},
   "outputs": [],
   "source": []
  }
 ],
 "metadata": {
  "kernelspec": {
   "display_name": "Python 3 (ipykernel)",
   "language": "python",
   "name": "python3"
  },
  "language_info": {
   "codemirror_mode": {
    "name": "ipython",
    "version": 3
   },
   "file_extension": ".py",
   "mimetype": "text/x-python",
   "name": "python",
   "nbconvert_exporter": "python",
   "pygments_lexer": "ipython3",
   "version": "3.8.12"
  },
  "toc": {
   "base_numbering": 1,
   "nav_menu": {},
   "number_sections": true,
   "sideBar": true,
   "skip_h1_title": false,
   "title_cell": "Table of Contents",
   "title_sidebar": "Contents",
   "toc_cell": false,
   "toc_position": {},
   "toc_section_display": true,
   "toc_window_display": false
  }
 },
 "nbformat": 4,
 "nbformat_minor": 5
}
